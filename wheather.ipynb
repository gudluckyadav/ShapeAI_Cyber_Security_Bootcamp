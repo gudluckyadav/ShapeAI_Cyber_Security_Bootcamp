{
  "nbformat": 4,
  "nbformat_minor": 0,
  "metadata": {
    "colab": {
      "name": "wheather.ipynb",
      "provenance": []
    },
    "kernelspec": {
      "name": "python3",
      "display_name": "Python 3"
    },
    "language_info": {
      "name": "python"
    }
  },
  "cells": [
    {
      "cell_type": "code",
      "metadata": {
        "colab": {
          "base_uri": "https://localhost:8080/"
        },
        "id": "MFgFgswBPaKU",
        "outputId": "a52c8df8-3274-4fd6-bf9e-40d68c2ae38b"
      },
      "source": [
        "from os import write\n",
        "import requests\n",
        "\n",
        "from datetime import datetime\n",
        "\n",
        "from requests import api\n",
        "\n",
        "api_key = '7d36655d3e89a9d6347844c492c9b0d3'\n",
        "location = input('Enter the city name:')\n",
        "\n",
        "complete_api_link = f'https://api.openweathermap.org/data/2.5/weather?q={location}&appid={api_key}'\n",
        "api_link = requests.get(complete_api_link)\n",
        "api_data = api_link.json()\n",
        "\n",
        "temp_city = ((api_data['main']['temp']) - 273.15)\n",
        "weather_desc = api_data['weather'][0]['description']\n",
        "hmdt = api_data['main']['humidity']\n",
        "wind_spd = api_data['wind']['speed']\n",
        "date_time = datetime.now().strftime(\" %d %b %Y | %I:%M:%S %p\")\n",
        "\n",
        "print(\"----------------------------------------------------------------\")\n",
        "print(f\"Weather Stats for -{location.upper()}  || {date_time} \")\n",
        "print(\"----------------------------------------------------------------\")\n",
        "\n",
        "print(\"Current temperature is: {:.2f} deg C\".format(temp_city))\n",
        "print(\"Current weather desc :\",weather_desc)\n",
        "print(\"Current Humidity     :\",hmdt, '%')\n",
        "print('Current wind speed   :',wind_spd, 'kmph')"
      ],
      "execution_count": 4,
      "outputs": [
        {
          "output_type": "stream",
          "text": [
            "Enter the city name:kota\n",
            "----------------------------------------------------------------\n",
            "Weather Stats for -KOTA  ||  22 Jun 2021 | 05:50:59 AM \n",
            "----------------------------------------------------------------\n",
            "Current temperature is: 37.61 deg C\n",
            "Current weather desc : scattered clouds\n",
            "Current Humidity     : 33 %\n",
            "Current wind speed   : 5.36 kmph\n"
          ],
          "name": "stdout"
        }
      ]
    },
    {
      "cell_type": "code",
      "metadata": {
        "id": "bR8OZBD3Pfag"
      },
      "source": [
        ""
      ],
      "execution_count": null,
      "outputs": []
    }
  ]
}